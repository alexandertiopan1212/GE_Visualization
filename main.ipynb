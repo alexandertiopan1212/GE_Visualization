{
 "cells": [
  {
   "cell_type": "code",
   "execution_count": 1,
   "metadata": {
    "id": "i9zlKPzHwE_c"
   },
   "outputs": [],
   "source": [
    "# Source: https://strategicmanagementinsight.com/tools/ge-mckinsey-matrix/#:~:text=Choose%20the%20values%20between%20'1,by%20multiplying%20weights%20and%20ratings."
   ]
  },
  {
   "cell_type": "markdown",
   "metadata": {},
   "source": [
    "### Project Overview\n",
    "\n",
    "The goal of this project is to utilize the GE McKinsey Matrix methodology to assess and visualize the strategic positioning of various products within a market. The GE McKinsey Matrix is a strategic tool used for portfolio analysis, helping businesses evaluate their product lines based on two key dimensions: market attractiveness and business strength."
   ]
  },
  {
   "cell_type": "markdown",
   "metadata": {},
   "source": [
    "### Libraries"
   ]
  },
  {
   "cell_type": "code",
   "execution_count": 2,
   "metadata": {},
   "outputs": [],
   "source": [
    "import pandas as pd\n",
    "import numpy as np\n",
    "import matplotlib.pyplot as plt\n",
    "import subprocess"
   ]
  },
  {
   "cell_type": "markdown",
   "metadata": {},
   "source": [
    "### Input and Assumptions"
   ]
  },
  {
   "cell_type": "code",
   "execution_count": 3,
   "metadata": {
    "colab": {
     "base_uri": "https://localhost:8080/",
     "height": 300
    },
    "executionInfo": {
     "elapsed": 887,
     "status": "ok",
     "timestamp": 1697525582767,
     "user": {
      "displayName": "Ahmad Rayz",
      "userId": "06763391904835426013"
     },
     "user_tz": -420
    },
    "id": "xyOt9q6uMSd2",
    "outputId": "38bbce1f-1c12-4ef0-8859-f76259d19ee1",
    "scrolled": true
   },
   "outputs": [
    {
     "data": {
      "text/html": [
       "<div>\n",
       "<style scoped>\n",
       "    .dataframe tbody tr th:only-of-type {\n",
       "        vertical-align: middle;\n",
       "    }\n",
       "\n",
       "    .dataframe tbody tr th {\n",
       "        vertical-align: top;\n",
       "    }\n",
       "\n",
       "    .dataframe thead th {\n",
       "        text-align: right;\n",
       "    }\n",
       "</style>\n",
       "<table border=\"1\" class=\"dataframe\">\n",
       "  <thead>\n",
       "    <tr style=\"text-align: right;\">\n",
       "      <th></th>\n",
       "      <th>produk</th>\n",
       "      <th>revenue_recurring</th>\n",
       "      <th>revenue_nonrecurring</th>\n",
       "      <th>biaya_fix</th>\n",
       "      <th>biaya_variabel</th>\n",
       "      <th>margin</th>\n",
       "      <th>market_size</th>\n",
       "      <th>market_share</th>\n",
       "      <th>industry_growth</th>\n",
       "    </tr>\n",
       "  </thead>\n",
       "  <tbody>\n",
       "    <tr>\n",
       "      <th>0</th>\n",
       "      <td>A1</td>\n",
       "      <td>10000</td>\n",
       "      <td>1000000</td>\n",
       "      <td>8000</td>\n",
       "      <td>500</td>\n",
       "      <td>0.991584</td>\n",
       "      <td>1000000</td>\n",
       "      <td>0.018</td>\n",
       "      <td>0.10</td>\n",
       "    </tr>\n",
       "    <tr>\n",
       "      <th>1</th>\n",
       "      <td>A2</td>\n",
       "      <td>5000</td>\n",
       "      <td>100000</td>\n",
       "      <td>2000</td>\n",
       "      <td>1000</td>\n",
       "      <td>0.971429</td>\n",
       "      <td>2000000</td>\n",
       "      <td>0.018</td>\n",
       "      <td>0.02</td>\n",
       "    </tr>\n",
       "    <tr>\n",
       "      <th>2</th>\n",
       "      <td>A3</td>\n",
       "      <td>2000</td>\n",
       "      <td>200000</td>\n",
       "      <td>2000</td>\n",
       "      <td>2000</td>\n",
       "      <td>0.980198</td>\n",
       "      <td>3400000</td>\n",
       "      <td>0.018</td>\n",
       "      <td>0.11</td>\n",
       "    </tr>\n",
       "    <tr>\n",
       "      <th>3</th>\n",
       "      <td>A4</td>\n",
       "      <td>4000</td>\n",
       "      <td>300000</td>\n",
       "      <td>40000</td>\n",
       "      <td>4000</td>\n",
       "      <td>0.855263</td>\n",
       "      <td>120000</td>\n",
       "      <td>0.018</td>\n",
       "      <td>0.05</td>\n",
       "    </tr>\n",
       "    <tr>\n",
       "      <th>4</th>\n",
       "      <td>A5</td>\n",
       "      <td>100</td>\n",
       "      <td>400000</td>\n",
       "      <td>80</td>\n",
       "      <td>300</td>\n",
       "      <td>0.999050</td>\n",
       "      <td>1200000</td>\n",
       "      <td>0.018</td>\n",
       "      <td>0.07</td>\n",
       "    </tr>\n",
       "    <tr>\n",
       "      <th>5</th>\n",
       "      <td>A6</td>\n",
       "      <td>100000</td>\n",
       "      <td>5000</td>\n",
       "      <td>4000</td>\n",
       "      <td>700</td>\n",
       "      <td>0.955238</td>\n",
       "      <td>1230000</td>\n",
       "      <td>0.018</td>\n",
       "      <td>0.12</td>\n",
       "    </tr>\n",
       "    <tr>\n",
       "      <th>6</th>\n",
       "      <td>A7</td>\n",
       "      <td>500</td>\n",
       "      <td>20000</td>\n",
       "      <td>300</td>\n",
       "      <td>800</td>\n",
       "      <td>0.946341</td>\n",
       "      <td>12000000</td>\n",
       "      <td>0.018</td>\n",
       "      <td>0.09</td>\n",
       "    </tr>\n",
       "    <tr>\n",
       "      <th>7</th>\n",
       "      <td>A8</td>\n",
       "      <td>8000</td>\n",
       "      <td>300</td>\n",
       "      <td>10000</td>\n",
       "      <td>900</td>\n",
       "      <td>-0.313253</td>\n",
       "      <td>2000000</td>\n",
       "      <td>0.018</td>\n",
       "      <td>0.03</td>\n",
       "    </tr>\n",
       "  </tbody>\n",
       "</table>\n",
       "</div>"
      ],
      "text/plain": [
       "  produk  revenue_recurring  revenue_nonrecurring  biaya_fix  biaya_variabel  \\\n",
       "0     A1              10000               1000000       8000             500   \n",
       "1     A2               5000                100000       2000            1000   \n",
       "2     A3               2000                200000       2000            2000   \n",
       "3     A4               4000                300000      40000            4000   \n",
       "4     A5                100                400000         80             300   \n",
       "5     A6             100000                  5000       4000             700   \n",
       "6     A7                500                 20000        300             800   \n",
       "7     A8               8000                   300      10000             900   \n",
       "\n",
       "     margin  market_size  market_share  industry_growth  \n",
       "0  0.991584      1000000         0.018             0.10  \n",
       "1  0.971429      2000000         0.018             0.02  \n",
       "2  0.980198      3400000         0.018             0.11  \n",
       "3  0.855263       120000         0.018             0.05  \n",
       "4  0.999050      1200000         0.018             0.07  \n",
       "5  0.955238      1230000         0.018             0.12  \n",
       "6  0.946341     12000000         0.018             0.09  \n",
       "7 -0.313253      2000000         0.018             0.03  "
      ]
     },
     "execution_count": 3,
     "metadata": {},
     "output_type": "execute_result"
    }
   ],
   "source": [
    "# Specify the path to your Excel file\n",
    "file_path = './table.xlsx'  # Update with your file path\n",
    "\n",
    "# Read the Excel file into a pandas DataFrame\n",
    "data = pd.read_excel(file_path)\n",
    "# Replace NaN values with zeros in the entire DataFrame\n",
    "data = data.fillna(0)\n",
    "data"
   ]
  },
  {
   "cell_type": "markdown",
   "metadata": {},
   "source": [
    "Calculates scores for each product based on market attractiveness and business strategy metrics using predefined weights."
   ]
  },
  {
   "cell_type": "code",
   "execution_count": 4,
   "metadata": {},
   "outputs": [],
   "source": [
    "# Calculate the market industry attractiveness\n",
    "market_share_weight = 0.20\n",
    "market_size_weight = 0.40\n",
    "industry_growth_weight = 0.40\n",
    "\n",
    "# Calculate the business strategy\n",
    "revenue_recurring_weight = 0.2\n",
    "revenue_nonrecurring_weight = 0.10\n",
    "biaya_fix_weight = 0.2\n",
    "biaya_variabel_weight = 0.1\n",
    "margin_weight = 0.4"
   ]
  },
  {
   "cell_type": "code",
   "execution_count": 5,
   "metadata": {
    "id": "U-FXfIxU2OF3"
   },
   "outputs": [],
   "source": [
    "# Scoring\n",
    "data['revenue_recurring'] = data['revenue_recurring'].rank() * revenue_recurring_weight\n",
    "data['revenue_nonrecurring'] = data['revenue_nonrecurring'].rank() * revenue_nonrecurring_weight\n",
    "data['biaya_fix'] = data['biaya_fix'].rank(ascending=False) * biaya_fix_weight\n",
    "data['biaya_variabel'] = data['biaya_variabel'].rank(ascending=False) * biaya_variabel_weight\n",
    "data['margin'] = data['margin'].rank() * margin_weight\n",
    "data['market_size'] = data['market_size'].rank() * market_size_weight\n",
    "data['industry_growth'] = data['industry_growth'].rank() * industry_growth_weight\n",
    "data['market_share'] = data['market_share'].rank() * market_share_weight"
   ]
  },
  {
   "cell_type": "code",
   "execution_count": 6,
   "metadata": {
    "colab": {
     "base_uri": "https://localhost:8080/",
     "height": 300
    },
    "executionInfo": {
     "elapsed": 3,
     "status": "ok",
     "timestamp": 1697525587995,
     "user": {
      "displayName": "Ahmad Rayz",
      "userId": "06763391904835426013"
     },
     "user_tz": -420
    },
    "id": "xVL_LpaDv6JR",
    "outputId": "5e07980c-a48f-483e-ed9a-6f3706067167",
    "scrolled": true
   },
   "outputs": [
    {
     "data": {
      "text/html": [
       "<div>\n",
       "<style scoped>\n",
       "    .dataframe tbody tr th:only-of-type {\n",
       "        vertical-align: middle;\n",
       "    }\n",
       "\n",
       "    .dataframe tbody tr th {\n",
       "        vertical-align: top;\n",
       "    }\n",
       "\n",
       "    .dataframe thead th {\n",
       "        text-align: right;\n",
       "    }\n",
       "</style>\n",
       "<table border=\"1\" class=\"dataframe\">\n",
       "  <thead>\n",
       "    <tr style=\"text-align: right;\">\n",
       "      <th></th>\n",
       "      <th>produk</th>\n",
       "      <th>revenue_recurring</th>\n",
       "      <th>revenue_nonrecurring</th>\n",
       "      <th>biaya_fix</th>\n",
       "      <th>biaya_variabel</th>\n",
       "      <th>margin</th>\n",
       "      <th>market_size</th>\n",
       "      <th>market_share</th>\n",
       "      <th>industry_growth</th>\n",
       "      <th>colors</th>\n",
       "      <th>bubble_size</th>\n",
       "    </tr>\n",
       "  </thead>\n",
       "  <tbody>\n",
       "    <tr>\n",
       "      <th>0</th>\n",
       "      <td>A1</td>\n",
       "      <td>1.4</td>\n",
       "      <td>0.8</td>\n",
       "      <td>0.6</td>\n",
       "      <td>0.7</td>\n",
       "      <td>2.8</td>\n",
       "      <td>0.8</td>\n",
       "      <td>0.9</td>\n",
       "      <td>2.4</td>\n",
       "      <td>0.215184</td>\n",
       "      <td>320.0</td>\n",
       "    </tr>\n",
       "    <tr>\n",
       "      <th>1</th>\n",
       "      <td>A2</td>\n",
       "      <td>1.0</td>\n",
       "      <td>0.4</td>\n",
       "      <td>1.1</td>\n",
       "      <td>0.3</td>\n",
       "      <td>2.0</td>\n",
       "      <td>2.2</td>\n",
       "      <td>0.9</td>\n",
       "      <td>0.4</td>\n",
       "      <td>0.800374</td>\n",
       "      <td>880.0</td>\n",
       "    </tr>\n",
       "    <tr>\n",
       "      <th>2</th>\n",
       "      <td>A3</td>\n",
       "      <td>0.6</td>\n",
       "      <td>0.5</td>\n",
       "      <td>1.1</td>\n",
       "      <td>0.2</td>\n",
       "      <td>2.4</td>\n",
       "      <td>2.8</td>\n",
       "      <td>0.9</td>\n",
       "      <td>2.8</td>\n",
       "      <td>0.551959</td>\n",
       "      <td>1120.0</td>\n",
       "    </tr>\n",
       "    <tr>\n",
       "      <th>3</th>\n",
       "      <td>A4</td>\n",
       "      <td>0.8</td>\n",
       "      <td>0.6</td>\n",
       "      <td>0.2</td>\n",
       "      <td>0.1</td>\n",
       "      <td>0.8</td>\n",
       "      <td>0.4</td>\n",
       "      <td>0.9</td>\n",
       "      <td>1.2</td>\n",
       "      <td>0.685318</td>\n",
       "      <td>160.0</td>\n",
       "    </tr>\n",
       "    <tr>\n",
       "      <th>4</th>\n",
       "      <td>A5</td>\n",
       "      <td>0.2</td>\n",
       "      <td>0.7</td>\n",
       "      <td>1.6</td>\n",
       "      <td>0.8</td>\n",
       "      <td>3.2</td>\n",
       "      <td>1.2</td>\n",
       "      <td>0.9</td>\n",
       "      <td>1.6</td>\n",
       "      <td>0.773846</td>\n",
       "      <td>480.0</td>\n",
       "    </tr>\n",
       "    <tr>\n",
       "      <th>5</th>\n",
       "      <td>A6</td>\n",
       "      <td>1.6</td>\n",
       "      <td>0.2</td>\n",
       "      <td>0.8</td>\n",
       "      <td>0.6</td>\n",
       "      <td>1.6</td>\n",
       "      <td>1.6</td>\n",
       "      <td>0.9</td>\n",
       "      <td>3.2</td>\n",
       "      <td>0.341936</td>\n",
       "      <td>640.0</td>\n",
       "    </tr>\n",
       "    <tr>\n",
       "      <th>6</th>\n",
       "      <td>A7</td>\n",
       "      <td>0.4</td>\n",
       "      <td>0.3</td>\n",
       "      <td>1.4</td>\n",
       "      <td>0.5</td>\n",
       "      <td>1.2</td>\n",
       "      <td>3.2</td>\n",
       "      <td>0.9</td>\n",
       "      <td>2.0</td>\n",
       "      <td>0.212294</td>\n",
       "      <td>1280.0</td>\n",
       "    </tr>\n",
       "    <tr>\n",
       "      <th>7</th>\n",
       "      <td>A8</td>\n",
       "      <td>1.2</td>\n",
       "      <td>0.1</td>\n",
       "      <td>0.4</td>\n",
       "      <td>0.4</td>\n",
       "      <td>0.4</td>\n",
       "      <td>2.2</td>\n",
       "      <td>0.9</td>\n",
       "      <td>0.8</td>\n",
       "      <td>0.571202</td>\n",
       "      <td>880.0</td>\n",
       "    </tr>\n",
       "  </tbody>\n",
       "</table>\n",
       "</div>"
      ],
      "text/plain": [
       "  produk  revenue_recurring  revenue_nonrecurring  biaya_fix  biaya_variabel  \\\n",
       "0     A1                1.4                   0.8        0.6             0.7   \n",
       "1     A2                1.0                   0.4        1.1             0.3   \n",
       "2     A3                0.6                   0.5        1.1             0.2   \n",
       "3     A4                0.8                   0.6        0.2             0.1   \n",
       "4     A5                0.2                   0.7        1.6             0.8   \n",
       "5     A6                1.6                   0.2        0.8             0.6   \n",
       "6     A7                0.4                   0.3        1.4             0.5   \n",
       "7     A8                1.2                   0.1        0.4             0.4   \n",
       "\n",
       "   margin  market_size  market_share  industry_growth    colors  bubble_size  \n",
       "0     2.8          0.8           0.9              2.4  0.215184        320.0  \n",
       "1     2.0          2.2           0.9              0.4  0.800374        880.0  \n",
       "2     2.4          2.8           0.9              2.8  0.551959       1120.0  \n",
       "3     0.8          0.4           0.9              1.2  0.685318        160.0  \n",
       "4     3.2          1.2           0.9              1.6  0.773846        480.0  \n",
       "5     1.6          1.6           0.9              3.2  0.341936        640.0  \n",
       "6     1.2          3.2           0.9              2.0  0.212294       1280.0  \n",
       "7     0.4          2.2           0.9              0.8  0.571202        880.0  "
      ]
     },
     "execution_count": 6,
     "metadata": {},
     "output_type": "execute_result"
    }
   ],
   "source": [
    "N = len(data)\n",
    "colors = np.random.rand(N)\n",
    "area = (25 * np.random.rand(N))**2\n",
    "data['colors'] = colors\n",
    "data['bubble_size'] = 400 * data['market_size']\n",
    "data"
   ]
  },
  {
   "cell_type": "markdown",
   "metadata": {},
   "source": [
    "### Plot"
   ]
  },
  {
   "cell_type": "markdown",
   "metadata": {},
   "source": [
    "Utilizes the calculated scores to plot a quadrant chart, where each product is represented by a bubble. The position of each bubble on the chart indicates its strategic position, with axes representing business strategy and market attractiveness."
   ]
  },
  {
   "cell_type": "code",
   "execution_count": 7,
   "metadata": {
    "id": "gFEHeq8JMSgT"
   },
   "outputs": [],
   "source": [
    "def quadrant_chart(name, x, y, colors, bubble_size, xtick_labels=None, ytick_labels=None, ax=None):\n",
    "\n",
    "    # make the data easier to work with by putting it in a dataframe\n",
    "    data = pd.DataFrame({'name': name ,'x': x, 'y': y, 'Colors': colors, 'bubble_size': bubble_size})\n",
    "\n",
    "    # let the user specify their own axes\n",
    "    ax = ax if ax else plt.axes()\n",
    "\n",
    "    # calculate averages up front to avoid repeated calculations\n",
    "    y_avg = data['y'].mean()\n",
    "    x_avg = data['x'].mean()\n",
    "\n",
    "    # set x limits\n",
    "    adj_x = max((data['x'].max() - x_avg), (x_avg - data['x'].min())) * 1.1\n",
    "    lb_x, ub_x = (x_avg - adj_x, x_avg + adj_x)\n",
    "    ax.set_xlim(lb_x, ub_x)\n",
    "\n",
    "    # set y limits\n",
    "    adj_y = max((data['y'].max() - y_avg), (y_avg - data['y'].min())) * 1.1\n",
    "    lb_y, ub_y = (y_avg - adj_y, y_avg + adj_y)\n",
    "    ax.set_ylim(lb_y, ub_y)\n",
    "\n",
    "    # set x tick labels\n",
    "    if xtick_labels:\n",
    "        ax.set_xticks([(x_avg - adj_x / 2), (x_avg + adj_x / 2)])\n",
    "        ax.set_xticklabels(xtick_labels)\n",
    "\n",
    "    # set y tick labels\n",
    "    if ytick_labels:\n",
    "        ax.set_yticks([(y_avg - adj_y / 2), (y_avg + adj_y / 2)])\n",
    "        ax.set_yticklabels(ytick_labels, rotation='vertical', va='center')\n",
    "\n",
    "    # plot points and quadrant lines\n",
    "    plt.style.use('ggplot')\n",
    "    ax.scatter(x=data['x'], y=data['y'], c=data['Colors'], s = data['bubble_size'], alpha = 0.5, edgecolor='darkblue',\n",
    "    zorder=99)\n",
    "    for i, txt in enumerate(data['name']):\n",
    "      ax.annotate(txt, (data['x'][i], data['y'][i]))\n",
    "    ax.axvline(x_avg, c='k', lw=1)\n",
    "    ax.axhline(y_avg, c='k', lw=1)"
   ]
  },
  {
   "cell_type": "code",
   "execution_count": 8,
   "metadata": {
    "colab": {
     "base_uri": "https://localhost:8080/",
     "height": 496
    },
    "executionInfo": {
     "elapsed": 788,
     "status": "ok",
     "timestamp": 1697525594004,
     "user": {
      "displayName": "Ahmad Rayz",
      "userId": "06763391904835426013"
     },
     "user_tz": -420
    },
    "id": "8Ivnu7FoMSio",
    "outputId": "aa4bd932-b0d5-4a34-9b84-d096841eb5e6",
    "scrolled": false
   },
   "outputs": [
    {
     "data": {
      "text/plain": [
       "Text(0.5, 0, 'Business Strategy')"
      ]
     },
     "execution_count": 8,
     "metadata": {},
     "output_type": "execute_result"
    },
    {
     "data": {
      "image/png": "[encoded data removed]",
      "text/plain": [
       "<Figure size 640x480 with 1 Axes>"
      ]
     },
     "metadata": {},
     "output_type": "display_data"
    }
   ],
   "source": [
    "quadrant_chart(\n",
    "    name = np.array(data['produk']),\n",
    "    x=np.array(data['revenue_recurring'] + data['revenue_nonrecurring'] + data['biaya_variabel'] + data['biaya_fix'] + data['margin']),\n",
    "    y=np.array(data['market_share'] + data['market_size']) + data['industry_growth'],\n",
    "    colors = np.array(data['colors']),\n",
    "    bubble_size = np.array(data['bubble_size']),\n",
    "    xtick_labels=['Low', 'High'],\n",
    "    ytick_labels=['Low', 'High']\n",
    ")\n",
    "\n",
    "plt.title('GE Quadrant Matrix', fontsize=16)\n",
    "plt.ylabel('Market Attractiveness', fontsize=14)\n",
    "plt.xlabel('Business Strategy', fontsize=14)"
   ]
  },
  {
   "cell_type": "markdown",
   "metadata": {
    "executionInfo": {
     "elapsed": 2,
     "status": "ok",
     "timestamp": 1697532777238,
     "user": {
      "displayName": "ibrahim hasan",
      "userId": "04614481215727932675"
     },
     "user_tz": -420
    },
    "id": "0QlVVkJEyTUL"
   },
   "source": [
    "The plotted chart provides a visual representation of the strategic positioning of products within the market. Products positioned in different quadrants indicate their relative performance in terms of market attractiveness and business strategy."
   ]
  },
  {
   "cell_type": "code",
   "execution_count": null,
   "metadata": {},
   "outputs": [],
   "source": []
  }
 ],
 "metadata": {
  "colab": {
   "provenance": []
  },
  "kernelspec": {
   "display_name": "Python 3 (ipykernel)",
   "language": "python",
   "name": "python3"
  },
  "language_info": {
   "codemirror_mode": {
    "name": "ipython",
    "version": 3
   },
   "file_extension": ".py",
   "mimetype": "text/x-python",
   "name": "python",
   "nbconvert_exporter": "python",
   "pygments_lexer": "ipython3",
   "version": "3.11.5"
  }
 },
 "nbformat": 4,
 "nbformat_minor": 1
}
